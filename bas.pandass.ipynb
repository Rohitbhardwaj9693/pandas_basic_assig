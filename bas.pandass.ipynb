{
 "cells": [
  {
   "cell_type": "code",
   "execution_count": 1,
   "id": "d012df01-783c-4732-b8f9-b76d2636dcdd",
   "metadata": {},
   "outputs": [],
   "source": [
    "                                        # Name :- Rohit Bhardwaj\n",
    "                                       # Assignment Name :- Pandas Basic \n",
    "\n",
    "\n",
    "\n",
    "import pandas as pd"
   ]
  },
  {
   "cell_type": "code",
   "execution_count": 16,
   "id": "4e7bb476-e4f7-493d-bc0e-b735dd93cbf5",
   "metadata": {},
   "outputs": [
    {
     "data": {
      "text/plain": [
       "0     4\n",
       "1     8\n",
       "2    15\n",
       "3    16\n",
       "4    23\n",
       "5    42\n",
       "dtype: int64"
      ]
     },
     "execution_count": 16,
     "metadata": {},
     "output_type": "execute_result"
    }
   ],
   "source": [
    "# Q1. Create a Pandas Series that contains the following data: 4, 8, 15, 16, 23, and 42. Then, print the series.\n",
    "\n",
    "df1 = pd.Series([4,8,15,16,23,42])\n",
    "df1"
   ]
  },
  {
   "cell_type": "code",
   "execution_count": 17,
   "id": "be6ae0d6-1749-46f5-b7b2-ae6d8f117661",
   "metadata": {},
   "outputs": [
    {
     "data": {
      "text/plain": [
       "0     4\n",
       "1     8\n",
       "2    15\n",
       "3    16\n",
       "4    17\n",
       "5    45\n",
       "6    34\n",
       "7    23\n",
       "8    12\n",
       "9    11\n",
       "dtype: int64"
      ]
     },
     "execution_count": 17,
     "metadata": {},
     "output_type": "execute_result"
    }
   ],
   "source": [
    "# Q2. Create a variable of list type containing 10 elements in it, and apply pandas.Series function on the\n",
    "# variable print it.\n",
    "\n",
    "\n",
    "data = [4,8,15,16,17,45,34,23,12,11]\n",
    "df2 = pd.Series(data)\n",
    "df2"
   ]
  },
  {
   "cell_type": "code",
   "execution_count": 15,
   "id": "b4988cd3-debf-4997-8758-9c18eb8f4286",
   "metadata": {},
   "outputs": [
    {
     "data": {
      "text/plain": [
       "pandas.core.series.Series"
      ]
     },
     "execution_count": 15,
     "metadata": {},
     "output_type": "execute_result"
    }
   ],
   "source": [
    "type(df2)"
   ]
  },
  {
   "cell_type": "code",
   "execution_count": 20,
   "id": "897cd229-0c1f-4973-9323-7d4b292db726",
   "metadata": {},
   "outputs": [],
   "source": [
    "# Q3. Create a Pandas DataFrame that contains the following data:\n",
    "\n",
    "\n",
    "import csv\n",
    "data1 = [['Name','Age','Gender'],\n",
    "        ['Alice',25,'Female'],\n",
    "        ['Bob',30,'Male'],\n",
    "        ['Claire',27,'Femail']\n",
    "        ]\n",
    "\n",
    "with open('data2.csv','w') as f:\n",
    "    writer = csv.writer(f)\n",
    "    for i in data1:\n",
    "        writer.writerow(i)"
   ]
  },
  {
   "cell_type": "code",
   "execution_count": 23,
   "id": "cf1899ed-e923-41e3-ab84-5910e5a4ceac",
   "metadata": {},
   "outputs": [
    {
     "data": {
      "text/html": [
       "<div>\n",
       "<style scoped>\n",
       "    .dataframe tbody tr th:only-of-type {\n",
       "        vertical-align: middle;\n",
       "    }\n",
       "\n",
       "    .dataframe tbody tr th {\n",
       "        vertical-align: top;\n",
       "    }\n",
       "\n",
       "    .dataframe thead th {\n",
       "        text-align: right;\n",
       "    }\n",
       "</style>\n",
       "<table border=\"1\" class=\"dataframe\">\n",
       "  <thead>\n",
       "    <tr style=\"text-align: right;\">\n",
       "      <th></th>\n",
       "      <th>Name</th>\n",
       "      <th>Age</th>\n",
       "      <th>Gender</th>\n",
       "    </tr>\n",
       "  </thead>\n",
       "  <tbody>\n",
       "    <tr>\n",
       "      <th>0</th>\n",
       "      <td>Alice</td>\n",
       "      <td>25</td>\n",
       "      <td>Female</td>\n",
       "    </tr>\n",
       "    <tr>\n",
       "      <th>1</th>\n",
       "      <td>Bob</td>\n",
       "      <td>30</td>\n",
       "      <td>Male</td>\n",
       "    </tr>\n",
       "    <tr>\n",
       "      <th>2</th>\n",
       "      <td>Claire</td>\n",
       "      <td>27</td>\n",
       "      <td>Femail</td>\n",
       "    </tr>\n",
       "  </tbody>\n",
       "</table>\n",
       "</div>"
      ],
      "text/plain": [
       "     Name  Age  Gender\n",
       "0   Alice   25  Female\n",
       "1     Bob   30    Male\n",
       "2  Claire   27  Femail"
      ]
     },
     "execution_count": 23,
     "metadata": {},
     "output_type": "execute_result"
    }
   ],
   "source": [
    "df3 = pd.read_csv('data2.csv')\n",
    "df3"
   ]
  },
  {
   "cell_type": "code",
   "execution_count": null,
   "id": "27b934fe-4fc9-457a-bc20-0477e2f5d7a4",
   "metadata": {},
   "outputs": [],
   "source": [
    "# Q4. What is ‘DataFrame’ in pandas and how is it different from pandas.series? Explain with an example."
   ]
  },
  {
   "cell_type": "code",
   "execution_count": 24,
   "id": "4355a694-6cba-4767-9d85-a1f13049dfc6",
   "metadata": {},
   "outputs": [],
   "source": [
    "# As noted in the table, a Pandas Series is a 1D array of data, but a \n",
    "# single-column DataFrame is a 2D table with one column.\n",
    "\n",
    "# The main distinction between the two is this. For a single-column \n",
    "\n",
    "# DataFrame, an index can be optional, but a Series has to have an \n",
    "# index defined.\n"
   ]
  },
  {
   "cell_type": "code",
   "execution_count": 25,
   "id": "2ee72cad-c678-44e0-8122-5156f2a943a9",
   "metadata": {},
   "outputs": [],
   "source": [
    "# Q5. What are some common functions you can use to manipulate data in a Pandas DataFrame? Can\n",
    "# you give an example of when you might use one of these functions?\n",
    "\n",
    "\n",
    "# pd.read_csv()\n",
    "# pd.read_excel()\n",
    "# head()\n",
    "# tail()\n",
    "# shape()\n",
    "# size()\n"
   ]
  },
  {
   "cell_type": "code",
   "execution_count": 26,
   "id": "be9b90cf-f5f9-41a8-a0fd-bc3a465a738e",
   "metadata": {},
   "outputs": [],
   "source": [
    "# Q6. Which of the following is mutable in nature Series, DataFrame, Panel?\n",
    "\n",
    "\n",
    "\n",
    "\n",
    "# The difference among Series, DataFrame, and panel\n",
    "\n",
    "# Data Structure\t  Dimensions\t                Size\n",
    "\n",
    "# Series\t       One-dimensional array            Immutable\n",
    "# Data Frame\t  Two-dimensional array         \tMutable\n",
    "# Panel\t     Three-dimensional array\t       Mutable"
   ]
  },
  {
   "cell_type": "code",
   "execution_count": 29,
   "id": "2834c3b2-9ed2-425c-9cd0-9c3fc77d2a69",
   "metadata": {},
   "outputs": [
    {
     "name": "stdout",
     "output_type": "stream",
     "text": [
      "                    courses   fees  discount\n",
      "0              data_science  22000      1000\n",
      "1            data_analitics  25000      2300\n",
      "2  java with system disigne  23000      1000\n"
     ]
    }
   ],
   "source": [
    "# Q7. Create a DataFrame using multiple Series. Explain with an example.\n",
    "\n",
    "courses = pd.Series([\"data_science\",\"data_analitics\",\"java with system disigne\"], name='courses')\n",
    "fees = pd.Series([22000,25000,23000], name='fees')\n",
    "discount  = pd.Series([1000,2300,1000],name='discount')\n",
    "\n",
    "df=pd.concat([courses,fees,discount],axis=1)\n",
    "print(df)\n"
   ]
  },
  {
   "cell_type": "code",
   "execution_count": null,
   "id": "907a6e59-5414-41b8-8674-5efc2dc85baf",
   "metadata": {},
   "outputs": [],
   "source": []
  }
 ],
 "metadata": {
  "kernelspec": {
   "display_name": "Python 3 (ipykernel)",
   "language": "python",
   "name": "python3"
  },
  "language_info": {
   "codemirror_mode": {
    "name": "ipython",
    "version": 3
   },
   "file_extension": ".py",
   "mimetype": "text/x-python",
   "name": "python",
   "nbconvert_exporter": "python",
   "pygments_lexer": "ipython3",
   "version": "3.10.8"
  }
 },
 "nbformat": 4,
 "nbformat_minor": 5
}
